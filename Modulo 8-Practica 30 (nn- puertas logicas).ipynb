{
 "cells": [
  {
   "cell_type": "markdown",
   "metadata": {},
   "source": [
    "# Puertas lógicas"
   ]
  },
  {
   "cell_type": "markdown",
   "metadata": {},
   "source": [
    "$$f(x) = a\\cdot x$$"
   ]
  },
  {
   "cell_type": "code",
   "execution_count": 1,
   "metadata": {
    "collapsed": true
   },
   "outputs": [],
   "source": [
    "import tensorflow as tf"
   ]
  },
  {
   "cell_type": "code",
   "execution_count": 2,
   "metadata": {
    "collapsed": true
   },
   "outputs": [],
   "source": [
    "session = tf.Session()"
   ]
  },
  {
   "cell_type": "code",
   "execution_count": 3,
   "metadata": {
    "collapsed": true
   },
   "outputs": [],
   "source": [
    "a = tf.Variable(4.0)\n",
    "x_val = 5.0\n",
    "x_data =tf.placeholder(dtype=tf.float32)"
   ]
  },
  {
   "cell_type": "code",
   "execution_count": 5,
   "metadata": {
    "collapsed": false
   },
   "outputs": [],
   "source": [
    "multiplication = tf.mul(a,x_data)"
   ]
  },
  {
   "cell_type": "markdown",
   "metadata": {},
   "source": [
    "$$loss = (a\\cdot x - target)^2$$"
   ]
  },
  {
   "cell_type": "code",
   "execution_count": 6,
   "metadata": {
    "collapsed": true
   },
   "outputs": [],
   "source": [
    "loss = tf.square(tf.sub(multiplication, 50.0))## L2"
   ]
  },
  {
   "cell_type": "code",
   "execution_count": 7,
   "metadata": {
    "collapsed": true
   },
   "outputs": [],
   "source": [
    "init = tf.initialize_all_variables()\n",
    "session.run(init)"
   ]
  },
  {
   "cell_type": "code",
   "execution_count": 8,
   "metadata": {
    "collapsed": true
   },
   "outputs": [],
   "source": [
    "my_optim = tf.train.GradientDescentOptimizer(0.01)\n",
    "train_step = my_optim.minimize(loss)"
   ]
  },
  {
   "cell_type": "code",
   "execution_count": 9,
   "metadata": {
    "collapsed": false
   },
   "outputs": [
    {
     "name": "stdout",
     "output_type": "stream",
     "text": [
      "Optimización del valor de a para conseguir a*5 = 50\n",
      "7.0 x 5.0 = 35.0\n",
      "8.5 x 5.0 = 42.5\n",
      "9.25 x 5.0 = 46.25\n",
      "9.625 x 5.0 = 48.125\n",
      "9.8125 x 5.0 = 49.0625\n",
      "9.90625 x 5.0 = 49.5312\n",
      "9.95312 x 5.0 = 49.7656\n",
      "9.97656 x 5.0 = 49.8828\n",
      "9.98828 x 5.0 = 49.9414\n",
      "9.99414 x 5.0 = 49.9707\n"
     ]
    }
   ],
   "source": [
    "print(\"Optimización del valor de a para conseguir a*5 = 50\")\n",
    "for i in range(10):\n",
    "    session.run(train_step, feed_dict={x_data: x_val})\n",
    "    a_val = session.run(a)\n",
    "    mult_out = session.run(multiplication, feed_dict={x_data:x_val})\n",
    "    print(str(a_val)+\" x \"+str(x_val)+\" = \"+str(mult_out))"
   ]
  },
  {
   "cell_type": "markdown",
   "metadata": {},
   "source": [
    "$$f(x) = a\\cdot x + b $$"
   ]
  },
  {
   "cell_type": "markdown",
   "metadata": {},
   "source": [
    "¿Qué tiene que valer $a$ y $b$ para que $f(5) = 50.0$?"
   ]
  },
  {
   "cell_type": "code",
   "execution_count": 10,
   "metadata": {
    "collapsed": true
   },
   "outputs": [],
   "source": [
    "from tensorflow.python.framework import ops \n",
    "ops.reset_default_graph()"
   ]
  },
  {
   "cell_type": "code",
   "execution_count": 11,
   "metadata": {
    "collapsed": true
   },
   "outputs": [],
   "source": [
    "session = tf.Session()"
   ]
  },
  {
   "cell_type": "code",
   "execution_count": 12,
   "metadata": {
    "collapsed": true
   },
   "outputs": [],
   "source": [
    "a = tf.Variable(5.0)\n",
    "b = tf.Variable(5.0)\n",
    "x_val = 5.0\n",
    "x_data = tf.placeholder(dtype = tf.float32)"
   ]
  },
  {
   "cell_type": "code",
   "execution_count": 13,
   "metadata": {
    "collapsed": true
   },
   "outputs": [],
   "source": [
    "mult_add = tf.add(tf.mul(a, x_data), b)"
   ]
  },
  {
   "cell_type": "code",
   "execution_count": 14,
   "metadata": {
    "collapsed": true
   },
   "outputs": [],
   "source": [
    "loss = tf.square(tf.sub(mult_add, 50.0))"
   ]
  },
  {
   "cell_type": "code",
   "execution_count": 15,
   "metadata": {
    "collapsed": true
   },
   "outputs": [],
   "source": [
    "my_optim = tf.train.GradientDescentOptimizer(0.01)\n",
    "train_step = my_optim.minimize(loss)"
   ]
  },
  {
   "cell_type": "code",
   "execution_count": 16,
   "metadata": {
    "collapsed": true
   },
   "outputs": [],
   "source": [
    "init = tf.initialize_all_variables()\n",
    "session.run(init)"
   ]
  },
  {
   "cell_type": "code",
   "execution_count": 17,
   "metadata": {
    "collapsed": false
   },
   "outputs": [
    {
     "name": "stdout",
     "output_type": "stream",
     "text": [
      "7.0 x 5.0 + 5.4 = 40.4\n",
      "7.96 x 5.0 + 5.592 = 45.392\n",
      "8.4208 x 5.0 + 5.68416 = 47.7882\n",
      "8.64198 x 5.0 + 5.7284 = 48.9383\n",
      "8.74815 x 5.0 + 5.74963 = 49.4904\n",
      "8.79911 x 5.0 + 5.75982 = 49.7554\n",
      "8.82357 x 5.0 + 5.76471 = 49.8826\n",
      "8.83532 x 5.0 + 5.76706 = 49.9436\n",
      "8.84095 x 5.0 + 5.76819 = 49.9729\n",
      "8.84366 x 5.0 + 5.76873 = 49.987\n",
      "8.84496 x 5.0 + 5.76899 = 49.9938\n",
      "8.84558 x 5.0 + 5.76912 = 49.997\n",
      "8.84588 x 5.0 + 5.76918 = 49.9986\n",
      "8.84602 x 5.0 + 5.7692 = 49.9993\n",
      "8.84609 x 5.0 + 5.76922 = 49.9997\n"
     ]
    }
   ],
   "source": [
    "for i in range(15):\n",
    "    session.run(train_step, feed_dict={x_data : x_val})\n",
    "    a_val, b_val = (session.run(a), session.run(b))\n",
    "    result = session.run(mult_add, feed_dict={x_data:x_val})\n",
    "    print(str(a_val)+\" x \"+str(x_val)+\" + \"+str(b_val)+ \" = \"+str(result))"
   ]
  }
 ],
 "metadata": {
  "kernelspec": {
   "display_name": "Python 3",
   "language": "python",
   "name": "python3"
  },
  "language_info": {
   "codemirror_mode": {
    "name": "ipython",
    "version": 3
   },
   "file_extension": ".py",
   "mimetype": "text/x-python",
   "name": "python",
   "nbconvert_exporter": "python",
   "pygments_lexer": "ipython3",
   "version": "3.4.5"
  }
 },
 "nbformat": 4,
 "nbformat_minor": 2
}

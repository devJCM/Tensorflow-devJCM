{
 "cells": [
  {
   "cell_type": "markdown",
   "metadata": {},
   "source": [
    "# Correspondencia en direcciones postales"
   ]
  },
  {
   "cell_type": "code",
   "execution_count": 1,
   "metadata": {
    "collapsed": true
   },
   "outputs": [],
   "source": [
    "import random\n",
    "import string\n",
    "import numpy as np\n",
    "import tensorflow as tf"
   ]
  },
  {
   "cell_type": "code",
   "execution_count": 2,
   "metadata": {
    "collapsed": true
   },
   "outputs": [],
   "source": [
    "n = 10\n",
    "street_names = [\"diagon\", \"elm\", \"abbey\", \"gran\", \"python\"]\n",
    "street_type = [\"callejon\", \"calle\", \"carrera\", \"via\", \"avenida\"]\n",
    "street_zips = [random.randint(20000, 29999) for i in range(5)]\n",
    "numbers = [random.randint(1,999) for i in range(n)]"
   ]
  },
  {
   "cell_type": "code",
   "execution_count": 3,
   "metadata": {
    "collapsed": true
   },
   "outputs": [],
   "source": [
    "streets = [random.choice(street_names) for i in range(n)]\n",
    "street_prefs = [random.choice(street_type) for i in range(n)]\n",
    "zips = [random.choice(street_zips) for i in range(n)]\n",
    "full_streets = [x + \" \" + y + \" \" + str(z) for x,y,z in zip(street_prefs, streets, numbers)]\n",
    "reference_data = [list(x) for x in zip(full_streets, zips)]"
   ]
  },
  {
   "cell_type": "code",
   "execution_count": 4,
   "metadata": {
    "collapsed": false
   },
   "outputs": [
    {
     "data": {
      "text/plain": [
       "[['callejon gran 953', 24190],\n",
       " ['calle gran 905', 25215],\n",
       " ['via gran 617', 27127],\n",
       " ['callejon gran 177', 27127],\n",
       " ['callejon diagon 72', 27127],\n",
       " ['avenida abbey 938', 27889],\n",
       " ['calle gran 838', 22567],\n",
       " ['callejon gran 115', 24190],\n",
       " ['avenida abbey 980', 22567],\n",
       " ['via abbey 576', 22567]]"
      ]
     },
     "execution_count": 4,
     "metadata": {},
     "output_type": "execute_result"
    }
   ],
   "source": [
    "reference_data"
   ]
  },
  {
   "cell_type": "code",
   "execution_count": 5,
   "metadata": {
    "collapsed": true
   },
   "outputs": [],
   "source": [
    "#Funcion que agrega errores a las direcciones\n",
    "\n",
    "def create_typo(s, prob=0.75):\n",
    "    if random.uniform(0,1)<0.75:\n",
    "        rand_idx = random.choice(range(len(s)))\n",
    "        s_list = list(s)\n",
    "        s_list[rand_idx] = random.choice(string.ascii_lowercase)\n",
    "        s = ''.join(s_list)\n",
    "    return s"
   ]
  },
  {
   "cell_type": "code",
   "execution_count": 6,
   "metadata": {
    "collapsed": true
   },
   "outputs": [],
   "source": [
    "typo_streets = [create_typo(x) for x in streets]"
   ]
  },
  {
   "cell_type": "code",
   "execution_count": 7,
   "metadata": {
    "collapsed": true
   },
   "outputs": [],
   "source": [
    "typo_full_streets = [x+\" \"+y+\" \"+str(z) for x,y,z in zip(street_prefs, typo_streets, numbers)]\n",
    "test_data = [list(x) for x in zip(typo_full_streets, zips)]"
   ]
  },
  {
   "cell_type": "code",
   "execution_count": 8,
   "metadata": {
    "collapsed": false,
    "scrolled": true
   },
   "outputs": [
    {
     "data": {
      "text/plain": [
       "[['callejon gran 953', 24190],\n",
       " ['calle xran 905', 25215],\n",
       " ['via gron 617', 27127],\n",
       " ['callejon gran 177', 27127],\n",
       " ['callejon dirgon 72', 27127],\n",
       " ['avenida abbey 938', 27889],\n",
       " ['calle uran 838', 22567],\n",
       " ['callejon gran 115', 24190],\n",
       " ['avenida aubey 980', 22567],\n",
       " ['via ubbey 576', 22567]]"
      ]
     },
     "execution_count": 8,
     "metadata": {},
     "output_type": "execute_result"
    }
   ],
   "source": [
    "test_data"
   ]
  },
  {
   "cell_type": "code",
   "execution_count": 9,
   "metadata": {
    "collapsed": true
   },
   "outputs": [],
   "source": [
    "session = tf.Session()"
   ]
  },
  {
   "cell_type": "code",
   "execution_count": 10,
   "metadata": {
    "collapsed": true
   },
   "outputs": [],
   "source": [
    "test_address = tf.sparse_placeholder(dtype = tf.string)\n",
    "test_zip = tf.placeholder(shape = [None, 1], dtype=tf.float32)\n",
    "\n",
    "ref_address = tf.sparse_placeholder(dtype = tf.string)\n",
    "ref_zip = tf.placeholder(shape=[None, n], dtype=tf.float32 )"
   ]
  },
  {
   "cell_type": "code",
   "execution_count": 11,
   "metadata": {
    "collapsed": false
   },
   "outputs": [],
   "source": [
    "zip_dist = tf.square(tf.sub(ref_zip, test_zip)) #distancia de numeros enteros\n",
    "address_dist = tf.edit_distance(test_address, ref_address, normalize=True) #distancia de texto"
   ]
  },
  {
   "cell_type": "markdown",
   "metadata": {},
   "source": [
    "### Distancia=0 cuando los objetos son iguales"
   ]
  },
  {
   "cell_type": "markdown",
   "metadata": {},
   "source": [
    "### Similaridad=1 cuando los objetos son iguales"
   ]
  },
  {
   "cell_type": "markdown",
   "metadata": {},
   "source": [
    "- $S(x,y) = 0$ si $x$ e $y$ son totalmente diferentes (no se parecen en nada)\n",
    "- $S(x,x) = 1$, ya que todo objeto es similar (si no igual) a si mismo.\n",
    "- $S(x,y) = \\frac{D - d(x,y)}{D-d}$ donde $D$ es la mayor distancia entre dos objetos posibles, y $d$ es la menor."
   ]
  },
  {
   "cell_type": "code",
   "execution_count": 12,
   "metadata": {
    "collapsed": false
   },
   "outputs": [],
   "source": [
    "zip_max = tf.gather(tf.squeeze(zip_dist), tf.argmax(zip_dist, 1)) #Distancia maxima\n",
    "zip_min = tf.gather(tf.squeeze(zip_dist), tf.argmin(zip_dist, 1)) #Distancia minima\n",
    "zip_sim = tf.div(tf.sub(zip_max, zip_dist), tf.sub(zip_max, zip_min))"
   ]
  },
  {
   "cell_type": "markdown",
   "metadata": {},
   "source": [
    "**En texto la maxima distancia ya es 1 y la minima 0**"
   ]
  },
  {
   "cell_type": "code",
   "execution_count": 14,
   "metadata": {
    "collapsed": false
   },
   "outputs": [],
   "source": [
    "address_sim = tf.sub(1.0, address_dist)"
   ]
  },
  {
   "cell_type": "markdown",
   "metadata": {},
   "source": [
    "### Combinacion lineal varicentrica"
   ]
  },
  {
   "cell_type": "markdown",
   "metadata": {},
   "source": [
    "$$S(x,y) = \\sum_{i=1}^k w_iS_k(x,y):\\quad \\sum_{i=1}^kw_i = 1$$"
   ]
  },
  {
   "cell_type": "code",
   "execution_count": 17,
   "metadata": {
    "collapsed": false
   },
   "outputs": [],
   "source": [
    "address_wi = 0.5\n",
    "zip_wi = 1.0 -address_wi\n",
    "\n",
    "weighted_sim = tf.add(tf.transpose(tf.mul(address_wi, address_sim)),tf.mul(zip_wi, zip_sim))"
   ]
  },
  {
   "cell_type": "code",
   "execution_count": 18,
   "metadata": {
    "collapsed": true
   },
   "outputs": [],
   "source": [
    "top_match_idx = tf.argmax(weighted_sim, 1) #direccion mas similar"
   ]
  },
  {
   "cell_type": "code",
   "execution_count": 19,
   "metadata": {
    "collapsed": true
   },
   "outputs": [],
   "source": [
    "def sparse_from_word_vector(word_vector):\n",
    "    num_words = len(word_vector)\n",
    "    idx = [[xi, 0, yi] for xi, x in enumerate(word_vector) for yi, y in enumerate(x)]\n",
    "    chars = list(''.join(word_vector))\n",
    "    return tf.SparseTensorValue(idx, chars, [num_words,1,1])"
   ]
  },
  {
   "cell_type": "code",
   "execution_count": 20,
   "metadata": {
    "collapsed": true
   },
   "outputs": [],
   "source": [
    "reference_address = [x[0] for x in reference_data]\n",
    "reference_zips = np.array([[x[1] for x in reference_data]])"
   ]
  },
  {
   "cell_type": "code",
   "execution_count": 21,
   "metadata": {
    "collapsed": true
   },
   "outputs": [],
   "source": [
    "sparse_ref_set = sparse_from_word_vector(reference_address) #se convierte la direccion de referencia a SparseTensor"
   ]
  },
  {
   "cell_type": "code",
   "execution_count": 41,
   "metadata": {
    "collapsed": false
   },
   "outputs": [
    {
     "name": "stdout",
     "output_type": "stream",
     "text": [
      "[0]\n",
      "Dirección original: callejon gran 953, 24190\n",
      "Dirección corregida: callejon gran 953, 24190\n",
      "\n",
      "[1]\n",
      "Dirección original: calle xran 905, 25215\n",
      "Dirección corregida: calle gran 905, 25215\n",
      "\n",
      "[2]\n",
      "Dirección original: via gron 617, 27127\n",
      "Dirección corregida: via gran 617, 27127\n",
      "\n",
      "[3]\n",
      "Dirección original: callejon gran 177, 27127\n",
      "Dirección corregida: callejon gran 177, 27127\n",
      "\n",
      "[4]\n",
      "Dirección original: callejon dirgon 72, 27127\n",
      "Dirección corregida: callejon diagon 72, 27127\n",
      "\n",
      "[5]\n",
      "Dirección original: avenida abbey 938, 27889\n",
      "Dirección corregida: avenida abbey 938, 27889\n",
      "\n",
      "[6]\n",
      "Dirección original: calle uran 838, 22567\n",
      "Dirección corregida: calle gran 838, 22567\n",
      "\n",
      "[7]\n",
      "Dirección original: callejon gran 115, 24190\n",
      "Dirección corregida: callejon gran 115, 24190\n",
      "\n",
      "[8]\n",
      "Dirección original: avenida aubey 980, 22567\n",
      "Dirección corregida: avenida abbey 980, 22567\n",
      "\n",
      "[9]\n",
      "Dirección original: via ubbey 576, 22567\n",
      "Dirección corregida: via abbey 576, 22567\n",
      "\n"
     ]
    },
    {
     "name": "stderr",
     "output_type": "stream",
     "text": [
      "/home/jess/anaconda3/envs/py34/lib/python3.4/site-packages/ipykernel/__main__.py:15: VisibleDeprecationWarning: converting an array with ndim > 0 to an index will result in an error in the future\n"
     ]
    }
   ],
   "source": [
    "for i in range(n):\n",
    "    test_address_entry = test_data[i][0]\n",
    "    test_zip_entry = [[test_data[i][1]]] #manera para que pueda realizar las operaciones c\n",
    "    \n",
    "    #recordar que para cada palabra como hipotesis hay una verdadera palabra\n",
    "    test_address_rep = [test_address_entry]*n #se multiplica la direccion mala por el num de direcciones correctas \n",
    "    sparse_test_set = sparse_from_word_vector(test_address_rep) #se convierte a SparseTensor\n",
    "    \n",
    "    feed_dict = {test_address: sparse_test_set,\n",
    "                test_zip: test_zip_entry, #los numeros no necesitan convertirte a Sparse\n",
    "                ref_address: sparse_ref_set,\n",
    "                ref_zip: reference_zips} #los numeros no necesitan convertirte a Sparse\n",
    "    \n",
    "    best_match = session.run(top_match_idx, feed_dict=feed_dict)\n",
    "    best_address = reference_address[best_match]\n",
    "    [best_zip] = reference_zips[0][best_match]\n",
    "    [[test_zip_aux]] = test_zip_entry\n",
    "    \n",
    "    print(best_match)\n",
    "    print(\"Dirección original: \"+str(test_address_entry)+ \", \"+str(test_zip_aux))\n",
    "    print(\"Dirección corregida: \"+str(best_address)+\", \"+str(best_zip)+\"\\n\")"
   ]
  }
 ],
 "metadata": {
  "kernelspec": {
   "display_name": "Python 3",
   "language": "python",
   "name": "python3"
  },
  "language_info": {
   "codemirror_mode": {
    "name": "ipython",
    "version": 3
   },
   "file_extension": ".py",
   "mimetype": "text/x-python",
   "name": "python",
   "nbconvert_exporter": "python",
   "pygments_lexer": "ipython3",
   "version": "3.4.5"
  }
 },
 "nbformat": 4,
 "nbformat_minor": 2
}

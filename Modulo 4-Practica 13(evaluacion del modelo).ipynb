{
 "cells": [
  {
   "cell_type": "markdown",
   "metadata": {},
   "source": [
    "# Evaluar el modelo"
   ]
  },
  {
   "cell_type": "code",
   "execution_count": 1,
   "metadata": {
    "collapsed": false
   },
   "outputs": [],
   "source": [
    "import matplotlib.pyplot as plt\n",
    "import numpy as np\n",
    "import tensorflow as tf\n",
    "session = tf.Session()"
   ]
  },
  {
   "cell_type": "markdown",
   "metadata": {},
   "source": [
    "## 1- Caso de regresión"
   ]
  },
  {
   "cell_type": "code",
   "execution_count": 2,
   "metadata": {
    "collapsed": true
   },
   "outputs": [],
   "source": [
    "x_vals = np.random.normal(1.0, 0.1, 200)\n",
    "y_vals = np.repeat(10.0, 200)\n",
    "\n",
    "x_data = tf.placeholder(shape = [None, 1], dtype = tf.float32)\n",
    "y_target = tf.placeholder(shape = [None, 1], dtype = tf.float32)\n",
    "\n",
    "batch_size = 25"
   ]
  },
  {
   "cell_type": "code",
   "execution_count": 3,
   "metadata": {
    "collapsed": true
   },
   "outputs": [],
   "source": [
    "train_idx = np.random.choice(len(x_vals), size=round(len(x_vals)*0.8),replace=False)"
   ]
  },
  {
   "cell_type": "code",
   "execution_count": 4,
   "metadata": {
    "collapsed": false
   },
   "outputs": [
    {
     "data": {
      "text/plain": [
       "array([ 73,  70, 199, 139, 108,  20, 172,  36,  24,  32, 168,  45,  54,\n",
       "       130,  26,  87,  98, 110,  83, 136, 125, 134,  17, 121,  49, 170,\n",
       "        78,   6,  86, 188, 107,  74, 109,  61,  42,  21,  48,   9, 123,\n",
       "        30, 126,  69, 152,  35, 149,  53, 103,  88, 156, 141,  84,  82,\n",
       "       174, 190, 182,  13, 102, 189,  62,  19, 183, 151,   4, 129,  38,\n",
       "       106, 127,   8, 175,   7,  80,  67, 164, 176, 124,  43,  89, 193,\n",
       "        52,  92, 113, 187, 155, 117,  91,  55,  37,  99,   2,  47,  68,\n",
       "       192, 162, 165, 198,  51, 111,  29,  14, 122,  44,  63, 161,  93,\n",
       "        28, 115,  64,  65,  71,  31,  95, 104, 194,  79, 159, 144, 177,\n",
       "        34,  94, 133,  66, 112,  81,  11, 166,  16,  50, 132,  12,   1,\n",
       "       191,  25, 143, 180,  57, 119,  85, 148, 178, 150, 195, 142,  60,\n",
       "       100, 196, 154,  33,  58,  41, 140,  15, 145,  18, 186,  39,  90,\n",
       "       135, 167,  72, 116])"
      ]
     },
     "execution_count": 4,
     "metadata": {},
     "output_type": "execute_result"
    }
   ],
   "source": [
    "train_idx"
   ]
  },
  {
   "cell_type": "code",
   "execution_count": 5,
   "metadata": {
    "collapsed": true
   },
   "outputs": [],
   "source": [
    "test_idx = np.array(list(set(range(len(x_vals)))-set(train_idx)))"
   ]
  },
  {
   "cell_type": "code",
   "execution_count": 6,
   "metadata": {
    "collapsed": false
   },
   "outputs": [
    {
     "data": {
      "text/plain": [
       "array([  0, 128,   3, 131,   5, 137,  10, 138, 146, 147,  22,  23, 153,\n",
       "        27, 157, 158, 160, 163,  40, 169, 171, 173,  46, 179, 181,  56,\n",
       "       184, 185,  59, 197,  75,  76,  77,  96,  97, 101, 105, 114, 118, 120])"
      ]
     },
     "execution_count": 6,
     "metadata": {},
     "output_type": "execute_result"
    }
   ],
   "source": [
    "test_idx"
   ]
  },
  {
   "cell_type": "code",
   "execution_count": 7,
   "metadata": {
    "collapsed": true
   },
   "outputs": [],
   "source": [
    "x_vals_train = x_vals[train_idx]\n",
    "x_vals_test = x_vals[test_idx]\n",
    "y_vals_train = y_vals[train_idx]\n",
    "y_vals_test = y_vals[test_idx]\n",
    "A = tf.Variable(tf.random_normal(shape=[1,1]))"
   ]
  },
  {
   "cell_type": "code",
   "execution_count": 10,
   "metadata": {
    "collapsed": false
   },
   "outputs": [],
   "source": [
    "my_prediction = tf.matmul(x_data, A)\n",
    "loss = tf.reduce_mean(tf.square(my_prediction-y_target))\n",
    "my_optim = tf.train.GradientDescentOptimizer(learning_rate=0.02)\n",
    "train_step = my_optim.minimize(loss)\n",
    "init = tf.initialize_all_variables()\n",
    "session.run(init)"
   ]
  },
  {
   "cell_type": "code",
   "execution_count": 11,
   "metadata": {
    "collapsed": false
   },
   "outputs": [
    {
     "name": "stdout",
     "output_type": "stream",
     "text": [
      "Paso #20, A=[[ 5.90453386]], Loss =15.5265\n",
      "Paso #40, A=[[ 8.16073895]], Loss =4.43926\n",
      "Paso #60, A=[[ 9.15259647]], Loss =1.73033\n",
      "Paso #80, A=[[ 9.54181862]], Loss =1.16475\n",
      "Paso #100, A=[[ 9.71545696]], Loss =1.3502\n",
      "Paso #120, A=[[ 9.79793453]], Loss =1.23264\n",
      "Paso #140, A=[[ 9.86874294]], Loss =1.4994\n",
      "Paso #160, A=[[ 9.8543663]], Loss =1.05899\n",
      "Paso #180, A=[[ 9.86473846]], Loss =0.568803\n",
      "Paso #200, A=[[ 9.84924603]], Loss =0.845854\n"
     ]
    }
   ],
   "source": [
    "for i in range(200):\n",
    "    rand_idx = np.random.choice(len(x_vals_train), size=batch_size)\n",
    "    rand_x = np.transpose([x_vals_train[rand_idx]])\n",
    "    rand_y = np.transpose([y_vals_train[rand_idx]])\n",
    "    session.run(train_step, feed_dict={x_data : rand_x, y_target: rand_y})\n",
    "    if (i+1)%20==0:\n",
    "        print('Paso #'+str(i+1)+ \", A=\"+str(session.run(A))+\", Loss =\"+\n",
    "              str(session.run(loss, feed_dict={x_data:rand_x, y_target:rand_y})))"
   ]
  },
  {
   "cell_type": "markdown",
   "metadata": {},
   "source": [
    "#### Evaluación del modelo con MSE"
   ]
  },
  {
   "cell_type": "markdown",
   "metadata": {},
   "source": [
    "* **Para evaluar los modelos de regresion lineal se saca la diferencia del valor real y el pronosticado **\n",
    "* **Para la evaluacion del modelo se usa el x_vals_train completo, no batch**"
   ]
  },
  {
   "cell_type": "code",
   "execution_count": 12,
   "metadata": {
    "collapsed": false
   },
   "outputs": [
    {
     "name": "stdout",
     "output_type": "stream",
     "text": [
      "MSE en el conjunto de entrenamiento 0.828\n",
      "MSE en el conjunto de testing 1.051\n"
     ]
    }
   ],
   "source": [
    "mse_train = session.run(loss, feed_dict={x_data: np.transpose([x_vals_train]), y_target: np.transpose([y_vals_train])})\n",
    "mse_test = session.run(loss, feed_dict={x_data: np.transpose([x_vals_test]), y_target: np.transpose([y_vals_test])})\n",
    "print(\"MSE en el conjunto de entrenamiento \"+str(np.round(mse_train, 3)))\n",
    "print(\"MSE en el conjunto de testing \"+str(np.round(mse_test, 3)))"
   ]
  },
  {
   "cell_type": "markdown",
   "metadata": {},
   "source": [
    "## 2- Caso de clasificación"
   ]
  },
  {
   "cell_type": "code",
   "execution_count": 13,
   "metadata": {
    "collapsed": true
   },
   "outputs": [],
   "source": [
    "from tensorflow.python.framework import ops\n",
    "ops.reset_default_graph()\n",
    "session = tf.Session()"
   ]
  },
  {
   "cell_type": "code",
   "execution_count": 14,
   "metadata": {
    "collapsed": true
   },
   "outputs": [],
   "source": [
    "batch_size = 25\n",
    "x_vals = np.concatenate((np.random.normal(-2,1,100), np.random.normal(2,1,100)))\n",
    "y_vals = np.concatenate((np.repeat(0.0, 100), np.repeat(1.0,100)))\n",
    "\n",
    "x_data = tf.placeholder(shape=[1,None], dtype=tf.float32)\n",
    "y_target = tf.placeholder(shape=[1,None], dtype = tf.float32)"
   ]
  },
  {
   "cell_type": "code",
   "execution_count": 15,
   "metadata": {
    "collapsed": true
   },
   "outputs": [],
   "source": [
    "train_idx = np.random.choice(len(x_vals), size=round(len(x_vals)*0.8), replace=False)\n",
    "test_idx = np.array(list(set(range(len(x_vals)))-set(train_idx)))"
   ]
  },
  {
   "cell_type": "code",
   "execution_count": 18,
   "metadata": {
    "collapsed": true
   },
   "outputs": [],
   "source": [
    "x_vals_train = x_vals[train_idx]\n",
    "x_vals_test = x_vals[test_idx]\n",
    "y_vals_train = y_vals[train_idx]\n",
    "y_vals_test = y_vals[test_idx]\n",
    "A = tf.Variable(tf.random_normal(mean=10, shape=[1]))"
   ]
  },
  {
   "cell_type": "code",
   "execution_count": 19,
   "metadata": {
    "collapsed": false
   },
   "outputs": [],
   "source": [
    "my_prediction = tf.add(x_data, A)\n",
    "init = tf.initialize_all_variables()\n",
    "session.run(init)"
   ]
  },
  {
   "cell_type": "code",
   "execution_count": 25,
   "metadata": {
    "collapsed": false
   },
   "outputs": [],
   "source": [
    "xentropy = tf.reduce_mean(tf.nn.sigmoid_cross_entropy_with_logits(logits=my_prediction,targets=y_target))\n",
    "my_optim = tf.train.GradientDescentOptimizer(learning_rate=0.05)\n",
    "train_step = my_optim.minimize(xentropy)"
   ]
  },
  {
   "cell_type": "code",
   "execution_count": 26,
   "metadata": {
    "collapsed": false
   },
   "outputs": [
    {
     "name": "stdout",
     "output_type": "stream",
     "text": [
      "Paso #100, A = [ 7.17884302]Loss = 2.01746\n",
      "Paso #200, A = [ 4.59405279]Loss = 1.83752\n",
      "Paso #300, A = [ 2.56220174]Loss = 0.514735\n",
      "Paso #400, A = [ 1.3716718]Loss = 0.234336\n",
      "Paso #500, A = [ 0.75246829]Loss = 0.161181\n",
      "Paso #600, A = [ 0.40996107]Loss = 0.216535\n",
      "Paso #700, A = [ 0.18447691]Loss = 0.123945\n",
      "Paso #800, A = [ 0.04826102]Loss = 0.219685\n",
      "Paso #900, A = [ 0.00320262]Loss = 0.214184\n",
      "Paso #1000, A = [-0.04495031]Loss = 0.137955\n",
      "Paso #1100, A = [-0.07263669]Loss = 0.171695\n",
      "Paso #1200, A = [-0.08465409]Loss = 0.163899\n",
      "Paso #1300, A = [-0.09902194]Loss = 0.156013\n",
      "Paso #1400, A = [-0.09217661]Loss = 0.171605\n",
      "Paso #1500, A = [-0.09589168]Loss = 0.281187\n",
      "Paso #1600, A = [-0.09611145]Loss = 0.135065\n",
      "Paso #1700, A = [-0.08215883]Loss = 0.182959\n",
      "Paso #1800, A = [-0.10256741]Loss = 0.178695\n",
      "Paso #1900, A = [-0.1044545]Loss = 0.144551\n",
      "Paso #2000, A = [-0.0961098]Loss = 0.213461\n"
     ]
    }
   ],
   "source": [
    "for i in range(2000):\n",
    "    rand_idx = np.random.choice(len(x_vals_train), size=batch_size)\n",
    "    rand_x = [x_vals_train[rand_idx]]\n",
    "    rand_y = [y_vals_train[rand_idx]]\n",
    "    session.run(train_step, feed_dict={x_data:rand_x, y_target:rand_y})\n",
    "    if(i+1)%100==0:\n",
    "        print(\"Paso #\"+str(i+1)+\", A = \"+str(session.run(A))+\n",
    "             \"Loss = \"+str(session.run(xentropy, feed_dict={x_data: rand_x, y_target:rand_y})))"
   ]
  },
  {
   "cell_type": "markdown",
   "metadata": {},
   "source": [
    "#### Evaluar el modelo con la precisión (Accuracy)"
   ]
  },
  {
   "cell_type": "markdown",
   "metadata": {},
   "source": [
    "* **Para la evaluacion de modelos de regresion logistica se verifica si el pronostico es igual a valor real**\n",
    "* **Para la evaluacion del modelo se usa el x_vals_train completo, no batch**"
   ]
  },
  {
   "cell_type": "code",
   "execution_count": 27,
   "metadata": {
    "collapsed": true
   },
   "outputs": [],
   "source": [
    "y_prediction = tf.squeeze(tf.round(tf.nn.sigmoid(tf.add(x_data, A))))\n",
    "correct_prediction = tf.equal(y_prediction, y_target)\n",
    "accuracy = tf.reduce_mean(tf.cast(correct_prediction, tf.float32))"
   ]
  },
  {
   "cell_type": "code",
   "execution_count": 28,
   "metadata": {
    "collapsed": true
   },
   "outputs": [],
   "source": [
    "acc_train = session.run(accuracy, feed_dict={x_data:[x_vals_train], y_target: [y_vals_train]})\n",
    "acc_test = session.run(accuracy, feed_dict={x_data:[x_vals_test], y_target: [y_vals_test]})"
   ]
  },
  {
   "cell_type": "code",
   "execution_count": 29,
   "metadata": {
    "collapsed": false
   },
   "outputs": [
    {
     "name": "stdout",
     "output_type": "stream",
     "text": [
      "Precisión en el conjunto de entrenamiento: 0.975\n",
      "Precisión en el conjunto de testing: 0.975\n"
     ]
    }
   ],
   "source": [
    "print(\"Precisión en el conjunto de entrenamiento: \"+str(acc_train))\n",
    "print(\"Precisión en el conjunto de testing: \"+ str(acc_test))"
   ]
  },
  {
   "cell_type": "markdown",
   "metadata": {},
   "source": [
    "#### Visualización de los modelos"
   ]
  },
  {
   "cell_type": "code",
   "execution_count": 30,
   "metadata": {
    "collapsed": false
   },
   "outputs": [
    {
     "data": {
      "text/plain": [
       "array([-0.0961098], dtype=float32)"
      ]
     },
     "execution_count": 30,
     "metadata": {},
     "output_type": "execute_result"
    }
   ],
   "source": [
    "A_result = session.run(A)\n",
    "A_result"
   ]
  },
  {
   "cell_type": "code",
   "execution_count": 31,
   "metadata": {
    "collapsed": false
   },
   "outputs": [
    {
     "data": {
      "image/png": "[encoded data removed]",
      "text/plain": [
       "<matplotlib.figure.Figure at 0x7f8218d7d550>"
      ]
     },
     "metadata": {},
     "output_type": "display_data"
    }
   ],
   "source": [
    "bins = np.linspace(-5,5,50)\n",
    "plt.hist(x_vals[0:100], bins, alpha=0.5, label = \"N(-2,1)\", color=\"red\")\n",
    "plt.hist(x_vals[100:200], bins, alpha=0.5, label=\"N(2,1)\", color=\"yellow\")\n",
    "plt.plot((A_result, A_result), (0, 10), \"k--\", linewidth = 4, label = \"A \"+str(np.round(A_result,2)))\n",
    "plt.legend(loc=\"upper right\")\n",
    "plt.title(\"Clasificador Binario de Precisión \"+str(np.round(acc_train,2)))\n",
    "plt.show()"
   ]
  }
 ],
 "metadata": {
  "kernelspec": {
   "display_name": "Python 3",
   "language": "python",
   "name": "python3"
  },
  "language_info": {
   "codemirror_mode": {
    "name": "ipython",
    "version": 3
   },
   "file_extension": ".py",
   "mimetype": "text/x-python",
   "name": "python",
   "nbconvert_exporter": "python",
   "pygments_lexer": "ipython3",
   "version": "3.4.5"
  }
 },
 "nbformat": 4,
 "nbformat_minor": 2
}

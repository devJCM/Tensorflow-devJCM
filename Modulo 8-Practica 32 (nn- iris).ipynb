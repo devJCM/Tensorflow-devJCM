{
 "cells": [
  {
   "cell_type": "markdown",
   "metadata": {},
   "source": [
    "# Predicción de la Longitud de Pétalo de Iris"
   ]
  },
  {
   "cell_type": "markdown",
   "metadata": {},
   "source": [
    "![](08-nn.png)"
   ]
  },
  {
   "cell_type": "code",
   "execution_count": 2,
   "metadata": {
    "collapsed": true
   },
   "outputs": [],
   "source": [
    "import matplotlib.pyplot as plt\n",
    "import numpy as np\n",
    "import tensorflow as tf\n",
    "from sklearn import datasets"
   ]
  },
  {
   "cell_type": "code",
   "execution_count": 3,
   "metadata": {
    "collapsed": true
   },
   "outputs": [],
   "source": [
    "iris =datasets.load_iris()"
   ]
  },
  {
   "cell_type": "code",
   "execution_count": 4,
   "metadata": {
    "collapsed": true
   },
   "outputs": [],
   "source": [
    "x_vals = np.array([x[0:3] for x in iris.data])\n",
    "y_vals = np.array([x[3] for x in iris.data])"
   ]
  },
  {
   "cell_type": "code",
   "execution_count": 5,
   "metadata": {
    "collapsed": true
   },
   "outputs": [],
   "source": [
    "session = tf.Session()"
   ]
  },
  {
   "cell_type": "code",
   "execution_count": 6,
   "metadata": {
    "collapsed": true
   },
   "outputs": [],
   "source": [
    "seed = 19\n",
    "tf.set_random_seed(seed)\n",
    "np.random.seed(seed)"
   ]
  },
  {
   "cell_type": "code",
   "execution_count": 7,
   "metadata": {
    "collapsed": true
   },
   "outputs": [],
   "source": [
    "train_idx = np.random.choice(len(x_vals), round(len(x_vals)*0.8), replace=False)\n",
    "test_idx = np.array(list(set(range(len(x_vals)))-set(train_idx)))"
   ]
  },
  {
   "cell_type": "code",
   "execution_count": 8,
   "metadata": {
    "collapsed": true
   },
   "outputs": [],
   "source": [
    "x_vals_train = x_vals[train_idx]\n",
    "x_vals_test = x_vals[test_idx]\n",
    "y_vals_train = y_vals[train_idx]\n",
    "y_vals_test = y_vals[test_idx]"
   ]
  },
  {
   "cell_type": "markdown",
   "metadata": {},
   "source": [
    "### Es muy importante que en las redes neuronales se normalicen los datos de X"
   ]
  },
  {
   "cell_type": "code",
   "execution_count": 9,
   "metadata": {
    "collapsed": true
   },
   "outputs": [],
   "source": [
    "def normalize_col(m):\n",
    "    col_max = m.max(axis=0)\n",
    "    col_min = m.min(axis=0)\n",
    "    return (m-col_min)/(col_max-col_min)"
   ]
  },
  {
   "cell_type": "code",
   "execution_count": 10,
   "metadata": {
    "collapsed": true
   },
   "outputs": [],
   "source": [
    "x_vals_train = np.nan_to_num(normalize_col(x_vals_train))\n",
    "x_vals_test = np.nan_to_num(normalize_col(x_vals_test))"
   ]
  },
  {
   "cell_type": "code",
   "execution_count": 11,
   "metadata": {
    "collapsed": true
   },
   "outputs": [],
   "source": [
    "batch_size = 50\n",
    "x_data = tf.placeholder(shape = [None, 3], dtype = tf.float32)\n",
    "y_target = tf.placeholder(shape=[None, 1], dtype = tf.float32)"
   ]
  },
  {
   "cell_type": "code",
   "execution_count": 12,
   "metadata": {
    "collapsed": true
   },
   "outputs": [],
   "source": [
    "hidden_layer_nodes = 5 #puede variar la cantidad ,este numero representa los \"h\" en la imagen\n",
    "A1 = tf.Variable(tf.random_normal(shape=[3, hidden_layer_nodes])) #recibe las 3 variables (azules en imagen) y salen las \"h\"\n",
    "b1 = tf.Variable(tf.random_normal(shape=[hidden_layer_nodes])) #bias, apunta a los \"h\"\n",
    "A2 = tf.Variable(tf.random_normal(shape=[hidden_layer_nodes, 1])) #parte de los \"h\" y tiene una unica salida\n",
    "b2 = tf.Variable(tf.random_normal(shape=[1]))# segundo bias que apunta a la salida"
   ]
  },
  {
   "cell_type": "code",
   "execution_count": 13,
   "metadata": {
    "collapsed": true
   },
   "outputs": [],
   "source": [
    "hidden_output = tf.nn.relu(tf.add(tf.matmul(x_data, A1), b1)) #de la capa de entrada a la capa oculta (ax+b)\n",
    "final_ouput = tf.nn.relu(tf.add(tf.matmul(hidden_output, A2), b2)) #de la capa oculta a la de salida (ax+b)"
   ]
  },
  {
   "cell_type": "code",
   "execution_count": 14,
   "metadata": {
    "collapsed": true
   },
   "outputs": [],
   "source": [
    "loss = tf.reduce_mean(tf.square(y_target-final_ouput)) #L2"
   ]
  },
  {
   "cell_type": "code",
   "execution_count": 15,
   "metadata": {
    "collapsed": true
   },
   "outputs": [],
   "source": [
    "my_optim = tf.train.GradientDescentOptimizer(0.005)\n",
    "train_step = my_optim.minimize(loss)"
   ]
  },
  {
   "cell_type": "code",
   "execution_count": 17,
   "metadata": {
    "collapsed": false
   },
   "outputs": [],
   "source": [
    "init = tf.initialize_all_variables()\n",
    "session.run(init)"
   ]
  },
  {
   "cell_type": "code",
   "execution_count": 18,
   "metadata": {
    "collapsed": false
   },
   "outputs": [
    {
     "name": "stdout",
     "output_type": "stream",
     "text": [
      "Paso #50, Loss = 0.338348\n",
      "Paso #100, Loss = 0.189833\n",
      "Paso #150, Loss = 0.190898\n",
      "Paso #200, Loss = 0.152777\n",
      "Paso #250, Loss = 0.166246\n",
      "Paso #300, Loss = 0.118296\n",
      "Paso #350, Loss = 0.136947\n",
      "Paso #400, Loss = 0.134049\n",
      "Paso #450, Loss = 0.13614\n",
      "Paso #500, Loss = 0.205023\n"
     ]
    }
   ],
   "source": [
    "loss_vect = []\n",
    "test_loss = []\n",
    "for i in range(500):\n",
    "    rand_idx = np.random.choice(len(x_vals_train), size=batch_size)\n",
    "    rand_x = x_vals_train[rand_idx]\n",
    "    rand_y = np.transpose([y_vals_train[rand_idx]])\n",
    "    session.run(train_step, feed_dict={x_data:rand_x, y_target:rand_y})\n",
    "    \n",
    "    temp_loss = session.run(loss, feed_dict={x_data:rand_x, y_target:rand_y})\n",
    "    loss_vect.append(np.sqrt(temp_loss)) #cuando se usa la funcion de perdida L2 (mse), se recomienda sacarle la raiz para obtener un valor mas real\n",
    "    \n",
    "    temp_loss_test = session.run(loss, feed_dict={x_data: x_vals_test, y_target: np.transpose([y_vals_test])})\n",
    "    test_loss.append(np.sqrt(temp_loss_test)) #cuando se usa la funcion de perdida L2 (mse), se recomienda sacarle la raiz para obtener un valor mas real\n",
    "    \n",
    "    if(i+1)%50==0:\n",
    "        print(\"Paso #\"+str(i+1)+\", Loss = \"+str(temp_loss))"
   ]
  },
  {
   "cell_type": "code",
   "execution_count": 19,
   "metadata": {
    "collapsed": false
   },
   "outputs": [
    {
     "data": {
      "image/png": "[encoded data removed]",
      "text/plain": [
       "<matplotlib.figure.Figure at 0x7f43e5537710>"
      ]
     },
     "metadata": {},
     "output_type": "display_data"
    }
   ],
   "source": [
    "plt.plot(loss_vect, \"r-\", label=\"Pérdida Entrenamiento\")\n",
    "plt.plot(test_loss, \"b--\", label =\"Pérdida Test\")\n",
    "plt.title(\"Pérdida (RMSE) per iteración\")\n",
    "plt.xlabel(\"Iteración\")\n",
    "plt.ylabel(\"RMSE\")\n",
    "plt.legend(loc =\"upper right\")\n",
    "plt.show()"
   ]
  },
  {
   "cell_type": "markdown",
   "metadata": {},
   "source": [
    "### No siempre es bueno iterar o entrenar demasiado la nn, porque caeriamos en probles de overfiting (cuando el plot de la perdida de test termina separado (Por arriba del plot) de la perdida de entrenamiento"
   ]
  },
  {
   "cell_type": "code",
   "execution_count": 70,
   "metadata": {
    "collapsed": false
   },
   "outputs": [
    {
     "name": "stdout",
     "output_type": "stream",
     "text": [
      "[[ 1.22608709 -0.83392358 -1.53211451  1.12569916 -0.01609535]\n",
      " [ 0.35085046  0.85546261 -0.63662612 -0.25854507  1.60017967]\n",
      " [-0.32647198  0.08845369  0.87398624  1.30653453 -0.15702768]]\n"
     ]
    }
   ],
   "source": [
    "print(session.run(A1))"
   ]
  },
  {
   "cell_type": "code",
   "execution_count": 25,
   "metadata": {
    "collapsed": false
   },
   "outputs": [
    {
     "name": "stdout",
     "output_type": "stream",
     "text": [
      "[ 0.15109812 -0.32973504 -0.58526516  2.1879828   1.42378116]\n"
     ]
    }
   ],
   "source": [
    "print(session.run(b1))"
   ]
  },
  {
   "cell_type": "code",
   "execution_count": 69,
   "metadata": {
    "collapsed": false
   },
   "outputs": [
    {
     "name": "stdout",
     "output_type": "stream",
     "text": [
      "[[ 1.27434003]\n",
      " [ 0.85026217]\n",
      " [-0.91079926]\n",
      " [ 0.82937407]\n",
      " [-0.34272885]]\n"
     ]
    }
   ],
   "source": [
    "print(session.run(A2))"
   ]
  },
  {
   "cell_type": "code",
   "execution_count": 68,
   "metadata": {
    "collapsed": false
   },
   "outputs": [
    {
     "name": "stdout",
     "output_type": "stream",
     "text": [
      "[-1.64615142]\n"
     ]
    }
   ],
   "source": [
    "print(session.run(b2))"
   ]
  },
  {
   "cell_type": "code",
   "execution_count": 67,
   "metadata": {
    "collapsed": false
   },
   "outputs": [],
   "source": [
    "predict=session.run(final_ouput,feed_dict={x_data: x_vals_test[:10]})"
   ]
  },
  {
   "cell_type": "code",
   "execution_count": 66,
   "metadata": {
    "collapsed": false
   },
   "outputs": [
    {
     "data": {
      "text/plain": [
       "[(0.23091578, 0.20000000000000001),\n",
       " (2.1434045, 1.5),\n",
       " (0.11467314, 0.10000000000000001),\n",
       " (0.56308019, 0.20000000000000001),\n",
       " (0.90720117, 0.40000000000000002),\n",
       " (2.7297215, 2.2999999999999998),\n",
       " (0.35616338, 0.29999999999999999),\n",
       " (0.0, 0.20000000000000001),\n",
       " (0.1615833, 0.20000000000000001),\n",
       " (0.28756154, 0.20000000000000001)]"
      ]
     },
     "execution_count": 66,
     "metadata": {},
     "output_type": "execute_result"
    }
   ],
   "source": [
    "list(zip(predict[:,0],y_vals_test[:10]))"
   ]
  }
 ],
 "metadata": {
  "kernelspec": {
   "display_name": "Python 3",
   "language": "python",
   "name": "python3"
  },
  "language_info": {
   "codemirror_mode": {
    "name": "ipython",
    "version": 3
   },
   "file_extension": ".py",
   "mimetype": "text/x-python",
   "name": "python",
   "nbconvert_exporter": "python",
   "pygments_lexer": "ipython3",
   "version": "3.4.5"
  }
 },
 "nbformat": 4,
 "nbformat_minor": 2
}

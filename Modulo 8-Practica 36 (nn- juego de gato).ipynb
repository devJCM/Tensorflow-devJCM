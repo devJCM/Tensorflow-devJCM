{
 "cells": [
  {
   "cell_type": "markdown",
   "metadata": {},
   "source": [
    "# Tres en raya"
   ]
  },
  {
   "cell_type": "code",
   "execution_count": 1,
   "metadata": {
    "collapsed": true
   },
   "outputs": [],
   "source": [
    "import tensorflow as tf\n",
    "import matplotlib.pyplot as plt\n",
    "import csv\n",
    "import random \n",
    "import numpy as np"
   ]
  },
  {
   "cell_type": "code",
   "execution_count": 2,
   "metadata": {
    "collapsed": true
   },
   "outputs": [],
   "source": [
    "from tensorflow.python.framework import ops\n",
    "ops.reset_default_graph()\n",
    "session = tf.Session()"
   ]
  },
  {
   "cell_type": "code",
   "execution_count": 3,
   "metadata": {
    "collapsed": true
   },
   "outputs": [],
   "source": [
    "batch_size = 50"
   ]
  },
  {
   "cell_type": "code",
   "execution_count": 4,
   "metadata": {
    "collapsed": true
   },
   "outputs": [],
   "source": [
    "def print_board(board):\n",
    "    symbols = ['O', ' ', 'X']\n",
    "    board_plus_1 = [int(x)+1 for x in board] #convierte el -1-> O  0 -> ' '  1-> X\n",
    "    board_line_1 = '{}|{}|{}'.format(symbols[board_plus_1[0]], symbols[board_plus_1[1]], symbols[board_plus_1[2]])\n",
    "    board_line_2 = '{}|{}|{}'.format(symbols[board_plus_1[3]], symbols[board_plus_1[4]], symbols[board_plus_1[5]])\n",
    "    board_line_3 = '{}|{}|{}'.format(symbols[board_plus_1[6]], symbols[board_plus_1[7]], symbols[board_plus_1[8]])\n",
    "    print(board_line_1)\n",
    "    print('_____')\n",
    "    print(board_line_2)\n",
    "    print('_____')\n",
    "    print(board_line_3)"
   ]
  },
  {
   "cell_type": "code",
   "execution_count": 5,
   "metadata": {
    "collapsed": false
   },
   "outputs": [
    {
     "name": "stdout",
     "output_type": "stream",
     "text": [
      "O| | \n",
      "_____\n",
      "X|X| \n",
      "_____\n",
      " |O|X\n"
     ]
    }
   ],
   "source": [
    "print_board([-1,0,0,1,1,0,0,-1,1])"
   ]
  },
  {
   "cell_type": "code",
   "execution_count": 6,
   "metadata": {
    "collapsed": true
   },
   "outputs": [],
   "source": [
    "#Funcion que da el nuevo tablero de acuerdo a la tranformacion, y la nueva posicion (idx) del idx dado\n",
    "\n",
    "def get_symmetry(board, idx, transformation):\n",
    "    '''\n",
    "    :param board: lista de 9 enteros formados por:\n",
    "    - O = -1, símbolo del enemigo\n",
    "    - X =  1, símbolo del jugador\n",
    "    - ' ' = 0, casilla vacía\n",
    "    :param transformation: ona de las cinco transformaciones del tablero:\n",
    "    - rotate90, rotate180, rotate270, flip_v, flip_h\n",
    "    :return: tuple(new_board, new_idx)\n",
    "    '''\n",
    "    \n",
    "    if transformation == 'rotate180':\n",
    "        new_idx = 8-idx\n",
    "        return board[::-1], new_idx\n",
    "    \n",
    "    elif transformation == 'rotate90':\n",
    "        new_idx = [6,3,0,7,4,1,8,5,2].index(idx)\n",
    "        tuple_board = list(zip(*[board[6:9], board[3:6], board[0:3]]))\n",
    "        return [value for item in tuple_board for value in item], new_idx\n",
    "    \n",
    "    elif transformation == 'rotate270':\n",
    "        new_idx = [2,5,8,1,4,7,0,3,6].index(idx)\n",
    "        tuple_board = list(zip(*[board[0:3], board[3:6], board[6:9]]))[::-1]\n",
    "        return [value for item in tuple_board for value in item], new_idx\n",
    "    \n",
    "    elif transformation == 'flip_v':\n",
    "        new_idx = [6,7,8,3,4,5,0,1,2].index(idx)\n",
    "        return board[6:9]+board[3:6]+board[0:3], new_idx\n",
    "    \n",
    "    elif transformation == 'flip_h':\n",
    "        new_idx = [2,1,0,5,4,3,8,7,6].index(idx)\n",
    "        new_board = board[::-1]\n",
    "        return new_board[6:9]+new_board[3:6]+new_board[0:3], new_idx\n",
    "    \n",
    "    else:\n",
    "        raise ValueError('Este movimiento no está contemplado')"
   ]
  },
  {
   "cell_type": "code",
   "execution_count": 7,
   "metadata": {
    "collapsed": false
   },
   "outputs": [
    {
     "data": {
      "text/plain": [
       "2"
      ]
     },
     "execution_count": 7,
     "metadata": {},
     "output_type": "execute_result"
    }
   ],
   "source": [
    "get_symmetry([-1,0,0,1,1,0,0,-1,1], 6, 'rotate180')[1]"
   ]
  },
  {
   "cell_type": "code",
   "execution_count": 8,
   "metadata": {
    "collapsed": false
   },
   "outputs": [
    {
     "name": "stdout",
     "output_type": "stream",
     "text": [
      " | |O\n",
      "_____\n",
      " |X|X\n",
      "_____\n",
      "X|O| \n"
     ]
    }
   ],
   "source": [
    "print_board(get_symmetry([-1,0,0,1,1,0,0,-1,1], 1, 'flip_h')[0])"
   ]
  },
  {
   "cell_type": "code",
   "execution_count": 9,
   "metadata": {
    "collapsed": true
   },
   "outputs": [],
   "source": [
    "def get_moves_from_csv(csv_file):\n",
    "    '''\n",
    "    :param csv_file: Fichero CSV con las respuestas para cada configuración esencial de tablero\n",
    "    :return moves: lista de los mejores movimientos posibles del tablero\n",
    "    '''\n",
    "    moves = []\n",
    "    with open(csv_file,'rt') as csvfile:\n",
    "        reader = csv.reader(csvfile, delimiter =',')\n",
    "        for row in reader:\n",
    "            moves.append(([int(x) for x in row[0:9]], int(row[9])))\n",
    "    return moves"
   ]
  },
  {
   "cell_type": "code",
   "execution_count": 10,
   "metadata": {
    "collapsed": false
   },
   "outputs": [
    {
     "data": {
      "text/plain": [
       "[([0, 0, 0, 0, -1, 0, 0, 0, 0], 0),\n",
       " ([0, -1, 0, 0, 0, 0, 0, 0, 0], 0),\n",
       " ([0, 0, 0, 0, 0, -1, 0, 0, 0], 6),\n",
       " ([-1, 0, 0, 0, 0, 0, 0, 0, 0], 4),\n",
       " ([0, 0, 0, 0, 0, 0, 1, -1, -1], 3),\n",
       " ([0, -1, 0, 0, 1, 0, 0, 0, -1], 0),\n",
       " ([0, -1, 1, 0, 0, -1, 0, 0, 0], 7),\n",
       " ([-1, 0, 0, 0, -1, 0, 0, 0, 1], 6),\n",
       " ([0, 0, 1, 0, 0, -1, -1, 0, 0], 4),\n",
       " ([0, 0, -1, 0, 0, 0, 0, -1, 1], 4),\n",
       " ([1, 0, 0, -1, 0, 0, 0, -1, 0], 2),\n",
       " ([0, 0, -1, 0, 1, 0, -1, 0, 0], 5),\n",
       " ([-1, 0, 0, 1, -1, -1, 0, 0, 1], 6),\n",
       " ([-1, 1, -1, 0, 1, 0, 0, 1, 0], 8),\n",
       " ([0, 0, 0, -1, 0, 1, 1, -1, -1], 1),\n",
       " ([-1, 1, 0, 0, 0, -1, 0, -1, 1], 3),\n",
       " ([0, -1, 1, 0, 1, -1, -1, 0, 0], 8),\n",
       " ([0, 0, -1, 1, 0, -1, 0, -1, 1], 0),\n",
       " ([1, -1, 0, 0, -1, 0, 0, 0, 0], 7),\n",
       " ([1, 0, -1, 0, -1, 0, 0, 0, 0], 6),\n",
       " ([1, 0, 0, 0, -1, 0, -1, 0, 0], 2),\n",
       " ([1, 0, 0, 0, -1, -1, 0, 0, 0], 3),\n",
       " ([1, 0, 0, 0, -1, 0, 0, 0, -1], 6),\n",
       " ([1, -1, 0, -1, -1, 0, 0, 1, 0], 5),\n",
       " ([1, -1, 0, 0, -1, 0, -1, 1, 0], 2),\n",
       " ([1, -1, -1, 0, -1, 0, 0, 1, 0], 6),\n",
       " ([1, -1, 0, 0, -1, -1, 0, 1, 0], 3),\n",
       " ([1, 0, -1, -1, -1, 0, 1, 0, 0], 8),\n",
       " ([1, -1, 1, 0, -1, 0, -1, 0, 0], 7),\n",
       " ([1, 0, 0, 1, -1, -1, -1, 0, 0], 2),\n",
       " ([1, 0, 0, -1, -1, 0, 1, 0, -1], 5)]"
      ]
     },
     "execution_count": 10,
     "metadata": {},
     "output_type": "execute_result"
    }
   ],
   "source": [
    "moves = get_moves_from_csv(\"moves_tic_tac_toe.csv\")\n",
    "moves #(tablero,best_next_move(idx))"
   ]
  },
  {
   "cell_type": "code",
   "execution_count": 11,
   "metadata": {
    "collapsed": true
   },
   "outputs": [],
   "source": [
    "def get_random_move(moves, rand_transforms = 2): #rand_transforms=cuantas veces se va a girar el tablero\n",
    "    (board, idx) = random.choice(moves)\n",
    "    possible_transforms = ['rotate90', 'rotate180', 'rotate270', 'flip_v', 'flip_h']\n",
    "    for i in range(rand_transforms):\n",
    "        random_transform = random.choice(possible_transforms)\n",
    "        (board, idx) = get_symmetry(board, idx, random_transform)\n",
    "    return board, idx"
   ]
  },
  {
   "cell_type": "code",
   "execution_count": 12,
   "metadata": {
    "collapsed": false
   },
   "outputs": [
    {
     "data": {
      "text/plain": [
       "([-1, 1, -1, 0, 1, 0, 0, 1, 0], 8)"
      ]
     },
     "execution_count": 12,
     "metadata": {},
     "output_type": "execute_result"
    }
   ],
   "source": [
    "get_random_move(moves, 2)"
   ]
  },
  {
   "cell_type": "markdown",
   "metadata": {},
   "source": [
    "### Enseñar a jugar al tres en raya a TensorFlow"
   ]
  },
  {
   "cell_type": "code",
   "execution_count": 13,
   "metadata": {
    "collapsed": true
   },
   "outputs": [],
   "source": [
    "session = tf.Session()"
   ]
  },
  {
   "cell_type": "code",
   "execution_count": 14,
   "metadata": {
    "collapsed": true
   },
   "outputs": [],
   "source": [
    "train_length = 500\n",
    "train_set = []\n",
    "for t in range(train_length):\n",
    "    train_set.append(get_random_move(moves))"
   ]
  },
  {
   "cell_type": "code",
   "execution_count": 15,
   "metadata": {
    "collapsed": false
   },
   "outputs": [
    {
     "data": {
      "text/plain": [
       "([1, 0, 0, -1, -1, 0, 1, 0, -1], 5)"
      ]
     },
     "execution_count": 15,
     "metadata": {},
     "output_type": "execute_result"
    }
   ],
   "source": [
    "train_set[0] #(tablero,best_next_move)"
   ]
  },
  {
   "cell_type": "code",
   "execution_count": 16,
   "metadata": {
    "collapsed": false
   },
   "outputs": [
    {
     "name": "stdout",
     "output_type": "stream",
     "text": [
      "O| | \n",
      "_____\n",
      "X|O|O\n",
      "_____\n",
      " | |X\n"
     ]
    }
   ],
   "source": [
    "test_board = [-1,0,0,1,-1,-1,0,0,1] \n",
    "\n",
    "print_board(test_board)"
   ]
  },
  {
   "cell_type": "code",
   "execution_count": 17,
   "metadata": {
    "collapsed": true
   },
   "outputs": [],
   "source": [
    "train_set = [x for x in train_set if x[0]!=test_board] #eliminamos el test_board del conjunto de datos"
   ]
  },
  {
   "cell_type": "code",
   "execution_count": 18,
   "metadata": {
    "collapsed": true
   },
   "outputs": [],
   "source": [
    "def init_weights(shape):\n",
    "    return tf.Variable(tf.random_normal(shape))"
   ]
  },
  {
   "cell_type": "code",
   "execution_count": 19,
   "metadata": {
    "collapsed": true
   },
   "outputs": [],
   "source": [
    "#Funcion que devuelve un valor numerico para cada posicion del tablero\n",
    "def model(X, A1, A2, b1, b2):\n",
    "    layer1 = tf.nn.sigmoid(tf.add(tf.matmul(X,A1),b1))\n",
    "    layer2 = tf.add(tf.matmul(layer1, A2),b2)\n",
    "    return layer2"
   ]
  },
  {
   "cell_type": "code",
   "execution_count": 20,
   "metadata": {
    "collapsed": true
   },
   "outputs": [],
   "source": [
    "X = tf.placeholder(dtype=tf.float32, shape=[None,9])\n",
    "Y = tf.placeholder(dtype=tf.int32, shape=[None])\n",
    "A1 = init_weights([9, 81])\n",
    "b1 = init_weights([81])\n",
    "A2 = init_weights([81,9])\n",
    "b2 = init_weights([9])\n",
    "model_output = model(X, A1, A2, b1, b2)"
   ]
  },
  {
   "cell_type": "code",
   "execution_count": 21,
   "metadata": {
    "collapsed": true
   },
   "outputs": [],
   "source": [
    "loss = tf.reduce_mean(tf.nn.sparse_softmax_cross_entropy_with_logits(logits=model_output, labels = Y))\n",
    "train_step = tf.train.GradientDescentOptimizer(0.025).minimize(loss)\n",
    "prediction = tf.argmax(model_output,1) #obtiene el  idx del max valor en el axis=1 (horizontalmente)"
   ]
  },
  {
   "cell_type": "code",
   "execution_count": 22,
   "metadata": {
    "collapsed": true
   },
   "outputs": [],
   "source": [
    "init = tf.initialize_all_variables()\n",
    "session.run(init)"
   ]
  },
  {
   "cell_type": "code",
   "execution_count": 23,
   "metadata": {
    "collapsed": false
   },
   "outputs": [
    {
     "name": "stdout",
     "output_type": "stream",
     "text": [
      "Step #500, Loss: 1.83308\n",
      "Step #1000, Loss: 1.65956\n",
      "Step #1500, Loss: 1.4879\n",
      "Step #2000, Loss: 1.44238\n",
      "Step #2500, Loss: 1.09914\n",
      "Step #3000, Loss: 1.35333\n",
      "Step #3500, Loss: 1.29301\n",
      "Step #4000, Loss: 0.946013\n",
      "Step #4500, Loss: 1.1112\n",
      "Step #5000, Loss: 0.817325\n",
      "Step #5500, Loss: 0.931445\n",
      "Step #6000, Loss: 1.10125\n",
      "Step #6500, Loss: 1.04067\n",
      "Step #7000, Loss: 0.929811\n",
      "Step #7500, Loss: 0.828526\n",
      "Step #8000, Loss: 0.654544\n",
      "Step #8500, Loss: 0.705466\n",
      "Step #9000, Loss: 0.703992\n",
      "Step #9500, Loss: 0.600406\n",
      "Step #10000, Loss: 0.670977\n"
     ]
    }
   ],
   "source": [
    "loss_vect = []\n",
    "for i in range(10000):\n",
    "    rand_idx = np.random.choice(range(len(train_set)), batch_size, replace=False)\n",
    "    batch_data = [train_set[i] for i in rand_idx]\n",
    "    \n",
    "    x_input = [x[0] for x in batch_data]\n",
    "    y_target = np.array([y[1] for y in batch_data])\n",
    "    \n",
    "    session.run(train_step, feed_dict={X:x_input, Y:y_target})\n",
    "    \n",
    "    temp_loss = session.run(loss, feed_dict={X:x_input, Y:y_target})\n",
    "    \n",
    "    loss_vect.append(temp_loss)\n",
    "    \n",
    "    if(i+1)%500==0:\n",
    "        print(\"Step #\"+str(i+1)+\", Loss: \"+str(temp_loss))"
   ]
  },
  {
   "cell_type": "code",
   "execution_count": 24,
   "metadata": {
    "collapsed": false
   },
   "outputs": [
    {
     "data": {
      "image/png": "[encoded data removed]",
      "text/plain": [
       "<matplotlib.figure.Figure at 0x7fe2f0953c18>"
      ]
     },
     "metadata": {},
     "output_type": "display_data"
    }
   ],
   "source": [
    "plt.plot(loss_vect, 'k-', label = \"Función de pérdidas\")\n",
    "plt.title(\"MSE por iteración\")\n",
    "plt.show()"
   ]
  },
  {
   "cell_type": "markdown",
   "metadata": {},
   "source": [
    "## Comprobando el modelo entrenado"
   ]
  },
  {
   "cell_type": "code",
   "execution_count": 25,
   "metadata": {
    "collapsed": false
   },
   "outputs": [
    {
     "name": "stdout",
     "output_type": "stream",
     "text": [
      "O| | \n",
      "_____\n",
      "X|O|O\n",
      "_____\n",
      " | |X\n"
     ]
    }
   ],
   "source": [
    "test_board = [-1,0,0,1,-1,-1,0,0,1] \n",
    "\n",
    "print_board(test_board)"
   ]
  },
  {
   "cell_type": "code",
   "execution_count": 26,
   "metadata": {
    "collapsed": true
   },
   "outputs": [],
   "source": [
    "test_boards = [test_board]\n",
    "feed_dict = {X:test_boards}\n",
    "logits = session.run(model_output, feed_dict=feed_dict)\n",
    "predictions = session.run(prediction, feed_dict=feed_dict)"
   ]
  },
  {
   "cell_type": "code",
   "execution_count": 27,
   "metadata": {
    "collapsed": false
   },
   "outputs": [
    {
     "name": "stdout",
     "output_type": "stream",
     "text": [
      "(1, 9)\n"
     ]
    },
    {
     "data": {
      "text/plain": [
       "[array([[ 1.81635153,  3.19800758,  3.72464108,  4.10031843,  3.08921623,\n",
       "         -1.18872309,  6.19422436,  4.07275677,  4.42344952]], dtype=float32)]"
      ]
     },
     "execution_count": 27,
     "metadata": {},
     "output_type": "execute_result"
    }
   ],
   "source": [
    "print(logits.shape)\n",
    "[logits]"
   ]
  },
  {
   "cell_type": "code",
   "execution_count": 28,
   "metadata": {
    "collapsed": false
   },
   "outputs": [
    {
     "data": {
      "text/plain": [
       "array([6])"
      ]
     },
     "execution_count": 28,
     "metadata": {},
     "output_type": "execute_result"
    }
   ],
   "source": [
    "np.argmax(logits,1) # es lo mismo que \"predictions\""
   ]
  },
  {
   "cell_type": "code",
   "execution_count": 29,
   "metadata": {
    "collapsed": false
   },
   "outputs": [
    {
     "name": "stdout",
     "output_type": "stream",
     "text": [
      "[6]\n"
     ]
    }
   ],
   "source": [
    "print(predictions)"
   ]
  },
  {
   "cell_type": "code",
   "execution_count": 30,
   "metadata": {
    "collapsed": true
   },
   "outputs": [],
   "source": [
    "#devuelve 1 si alguien ganó\n",
    "def check(board):\n",
    "    wins = [[0,1,2], [3,4,5], [6,7,8], [0,3,6], [1,4,7], [2,5,8], [0,4,8], [2,4,6]] #lineas que se forman cuando ganas\n",
    "    for i in range(len(wins)):\n",
    "        if board[wins[i][0]]==board[wins[i][1]]==board[wins[i][2]]==1.0:\n",
    "            return 1\n",
    "        elif board[wins[i][0]]==board[wins[i][1]]==board[wins[i][2]]==-1.0:\n",
    "            return 1\n",
    "    return 0"
   ]
  },
  {
   "cell_type": "code",
   "execution_count": 32,
   "metadata": {
    "collapsed": false
   },
   "outputs": [
    {
     "name": "stdout",
     "output_type": "stream",
     "text": [
      "Introduce tu posición de juego (0-8): 4\n",
      "El modelo ha movido:\n",
      " | |O\n",
      "_____\n",
      " |X| \n",
      "_____\n",
      " | | \n",
      "Introduce tu posición de juego (0-8): 1\n",
      "El modelo ha movido:\n",
      " |X|O\n",
      "_____\n",
      " |X| \n",
      "_____\n",
      "O| | \n",
      "Introduce tu posición de juego (0-8): 8\n",
      "El modelo ha movido:\n",
      " |X|O\n",
      "_____\n",
      "O|X| \n",
      "_____\n",
      "O| |X\n",
      "Introduce tu posición de juego (0-8): 7\n",
      "El modelo ha movido:\n",
      " |X|O\n",
      "_____\n",
      "O|X|O\n",
      "_____\n",
      "O|X|X\n",
      "Game Over\n"
     ]
    }
   ],
   "source": [
    "game_tracker = [0,0,0,0,0,0,0,0,0]\n",
    "win_logical = False\n",
    "num_moves = 0\n",
    "while not win_logical:\n",
    "    player_idx = input('Introduce tu posición de juego (0-8): ')\n",
    "    num_moves +=1\n",
    "    game_tracker[int(player_idx)] = 1.0 #guarda posicion de usuario, 1-->usuario | -1 -->maquina\n",
    "    \n",
    "    [potential_moves] = session.run(model_output, feed_dict={X:[game_tracker]})\n",
    "    allowed_moves = [ix for ix, x in enumerate(game_tracker) if x==0] #obtiene los lugares vacios\n",
    "    '''model_move:\n",
    "        si  el ix(index) esta en un espacio vacio agregalo, si el ix no esta en espacio vacio agrega -9999\n",
    "        para que al final, de ese array tome el idx del valor maximo\n",
    "    '''\n",
    "    model_move = np.argmax([x if ix in allowed_moves else -9999 for ix, x in enumerate(potential_moves)])\n",
    "    game_tracker[int(model_move)] = -1.0\n",
    "    \n",
    "    print(\"El modelo ha movido:\")\n",
    "    print_board(game_tracker)\n",
    "    if check(game_tracker)==1 or num_moves>=5:\n",
    "        print(\"Game Over\")\n",
    "        win_logical = True"
   ]
  }
 ],
 "metadata": {
  "kernelspec": {
   "display_name": "Python 3",
   "language": "python",
   "name": "python3"
  },
  "language_info": {
   "codemirror_mode": {
    "name": "ipython",
    "version": 3
   },
   "file_extension": ".py",
   "mimetype": "text/x-python",
   "name": "python",
   "nbconvert_exporter": "python",
   "pygments_lexer": "ipython3",
   "version": "3.4.5"
  }
 },
 "nbformat": 4,
 "nbformat_minor": 2
}

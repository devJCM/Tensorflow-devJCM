{
 "cells": [
  {
   "cell_type": "markdown",
   "metadata": {},
   "source": [
    "# Tres en raya"
   ]
  },
  {
   "cell_type": "code",
   "execution_count": 82,
   "metadata": {
    "collapsed": true
   },
   "outputs": [],
   "source": [
    "import tensorflow as tf\n",
    "import matplotlib.pyplot as plt\n",
    "import csv\n",
    "import random \n",
    "import numpy as np"
   ]
  },
  {
   "cell_type": "code",
   "execution_count": 83,
   "metadata": {
    "collapsed": true
   },
   "outputs": [],
   "source": [
    "from tensorflow.python.framework import ops\n",
    "ops.reset_default_graph()\n",
    "session = tf.Session()"
   ]
  },
  {
   "cell_type": "code",
   "execution_count": 84,
   "metadata": {
    "collapsed": true
   },
   "outputs": [],
   "source": [
    "batch_size = 50"
   ]
  },
  {
   "cell_type": "code",
   "execution_count": 85,
   "metadata": {
    "collapsed": true
   },
   "outputs": [],
   "source": [
    "def print_board(board):\n",
    "    symbols = ['O', ' ', 'X']\n",
    "    board_plus_1 = [int(x)+1 for x in board] #convierte el -1-> O  0 -> ' '  1-> X\n",
    "    board_line_1 = '{}|{}|{}'.format(symbols[board_plus_1[0]], symbols[board_plus_1[1]], symbols[board_plus_1[2]])\n",
    "    board_line_2 = '{}|{}|{}'.format(symbols[board_plus_1[3]], symbols[board_plus_1[4]], symbols[board_plus_1[5]])\n",
    "    board_line_3 = '{}|{}|{}'.format(symbols[board_plus_1[6]], symbols[board_plus_1[7]], symbols[board_plus_1[8]])\n",
    "    print(board_line_1)\n",
    "    print('_____')\n",
    "    print(board_line_2)\n",
    "    print('_____')\n",
    "    print(board_line_3)"
   ]
  },
  {
   "cell_type": "code",
   "execution_count": 86,
   "metadata": {
    "collapsed": false
   },
   "outputs": [
    {
     "name": "stdout",
     "output_type": "stream",
     "text": [
      "O| | \n",
      "_____\n",
      "X|X| \n",
      "_____\n",
      " |O|X\n"
     ]
    }
   ],
   "source": [
    "print_board([-1,0,0,1,1,0,0,-1,1])"
   ]
  },
  {
   "cell_type": "code",
   "execution_count": 87,
   "metadata": {
    "collapsed": true
   },
   "outputs": [],
   "source": [
    "#Funcion que da el nuevo tablero de acuerdo a la tranformacion, y la nueva posicion (idx) del idx dado\n",
    "\n",
    "def get_symmetry(board, idx, transformation):\n",
    "    '''\n",
    "    :param board: lista de 9 enteros formados por:\n",
    "    - O = -1, símbolo del enemigo\n",
    "    - X =  1, símbolo del jugador\n",
    "    - ' ' = 0, casilla vacía\n",
    "    :param transformation: ona de las cinco transformaciones del tablero:\n",
    "    - rotate90, rotate180, rotate270, flip_v, flip_h\n",
    "    :return: tuple(new_board, new_idx)\n",
    "    '''\n",
    "    \n",
    "    if transformation == 'rotate180':\n",
    "        new_idx = 8-idx\n",
    "        return board[::-1], new_idx\n",
    "    \n",
    "    elif transformation == 'rotate90':\n",
    "        new_idx = [6,3,0,7,4,1,8,5,2].index(idx)\n",
    "        tuple_board = list(zip(*[board[6:9], board[3:6], board[0:3]]))\n",
    "        return [value for item in tuple_board for value in item], new_idx\n",
    "    \n",
    "    elif transformation == 'rotate270':\n",
    "        new_idx = [2,5,8,1,4,7,0,3,6].index(idx)\n",
    "        tuple_board = list(zip(*[board[0:3], board[3:6], board[6:9]]))[::-1]\n",
    "        return [value for item in tuple_board for value in item], new_idx\n",
    "    \n",
    "    elif transformation == 'flip_v':\n",
    "        new_idx = [6,7,8,3,4,5,0,1,2].index(idx)\n",
    "        return board[6:9]+board[3:6]+board[0:3], new_idx\n",
    "    \n",
    "    elif transformation == 'flip_h':\n",
    "        new_idx = [2,1,0,5,4,3,8,7,6].index(idx)\n",
    "        new_board = board[::-1]\n",
    "        return new_board[6:9]+new_board[3:6]+new_board[0:3], new_idx\n",
    "    \n",
    "    else:\n",
    "        raise ValueError('Este movimiento no está contemplado')"
   ]
  },
  {
   "cell_type": "code",
   "execution_count": 88,
   "metadata": {
    "collapsed": false
   },
   "outputs": [
    {
     "data": {
      "text/plain": [
       "2"
      ]
     },
     "execution_count": 88,
     "metadata": {},
     "output_type": "execute_result"
    }
   ],
   "source": [
    "get_symmetry([-1,0,0,1,1,0,0,-1,1], 6, 'rotate180')[1]"
   ]
  },
  {
   "cell_type": "code",
   "execution_count": 89,
   "metadata": {
    "collapsed": false
   },
   "outputs": [
    {
     "name": "stdout",
     "output_type": "stream",
     "text": [
      " | |O\n",
      "_____\n",
      " |X|X\n",
      "_____\n",
      "X|O| \n"
     ]
    }
   ],
   "source": [
    "print_board(get_symmetry([-1,0,0,1,1,0,0,-1,1], 1, 'flip_h')[0])"
   ]
  },
  {
   "cell_type": "code",
   "execution_count": 90,
   "metadata": {
    "collapsed": true
   },
   "outputs": [],
   "source": [
    "def get_moves_from_csv(csv_file):\n",
    "    '''\n",
    "    :param csv_file: Fichero CSV con las respuestas para cada configuración esencial de tablero\n",
    "    :return moves: lista de los mejores movimientos posibles del tablero\n",
    "    '''\n",
    "    moves = []\n",
    "    with open(csv_file,'rt') as csvfile:\n",
    "        reader = csv.reader(csvfile, delimiter =',')\n",
    "        for row in reader:\n",
    "            moves.append(([int(x) for x in row[0:9]], int(row[9])))\n",
    "    return moves"
   ]
  },
  {
   "cell_type": "code",
   "execution_count": 91,
   "metadata": {
    "collapsed": false
   },
   "outputs": [
    {
     "data": {
      "text/plain": [
       "[([0, 0, 0, 0, -1, 0, 0, 0, 0], 0),\n",
       " ([0, -1, 0, 0, 0, 0, 0, 0, 0], 0),\n",
       " ([0, 0, 0, 0, 0, -1, 0, 0, 0], 6),\n",
       " ([-1, 0, 0, 0, 0, 0, 0, 0, 0], 4),\n",
       " ([0, 0, 0, 0, 0, 0, 1, -1, -1], 3),\n",
       " ([0, -1, 0, 0, 1, 0, 0, 0, -1], 0),\n",
       " ([0, -1, 1, 0, 0, -1, 0, 0, 0], 7),\n",
       " ([-1, 0, 0, 0, -1, 0, 0, 0, 1], 6),\n",
       " ([0, 0, 1, 0, 0, -1, -1, 0, 0], 4),\n",
       " ([0, 0, -1, 0, 0, 0, 0, -1, 1], 4),\n",
       " ([1, 0, 0, -1, 0, 0, 0, -1, 0], 2),\n",
       " ([0, 0, -1, 0, 1, 0, -1, 0, 0], 5),\n",
       " ([-1, 0, 0, 1, -1, -1, 0, 0, 1], 6),\n",
       " ([-1, 1, -1, 0, 1, 0, 0, 1, 0], 8),\n",
       " ([0, 0, 0, -1, 0, 1, 1, -1, -1], 1),\n",
       " ([-1, 1, 0, 0, 0, -1, 0, -1, 1], 3),\n",
       " ([0, -1, 1, 0, 1, -1, -1, 0, 0], 8),\n",
       " ([0, 0, -1, 1, 0, -1, 0, -1, 1], 0),\n",
       " ([1, -1, 0, 0, -1, 0, 0, 0, 0], 7),\n",
       " ([1, 0, -1, 0, -1, 0, 0, 0, 0], 6),\n",
       " ([1, 0, 0, 0, -1, 0, -1, 0, 0], 2),\n",
       " ([1, 0, 0, 0, -1, -1, 0, 0, 0], 3),\n",
       " ([1, 0, 0, 0, -1, 0, 0, 0, -1], 6),\n",
       " ([1, -1, 0, -1, -1, 0, 0, 1, 0], 5),\n",
       " ([1, -1, 0, 0, -1, 0, -1, 1, 0], 2),\n",
       " ([1, -1, -1, 0, -1, 0, 0, 1, 0], 6),\n",
       " ([1, -1, 0, 0, -1, -1, 0, 1, 0], 3),\n",
       " ([1, 0, -1, -1, -1, 0, 1, 0, 0], 8),\n",
       " ([1, -1, 1, 0, -1, 0, -1, 0, 0], 7),\n",
       " ([1, 0, 0, 1, -1, -1, -1, 0, 0], 2),\n",
       " ([1, 0, 0, -1, -1, 0, 1, 0, -1], 5)]"
      ]
     },
     "execution_count": 91,
     "metadata": {},
     "output_type": "execute_result"
    }
   ],
   "source": [
    "moves = get_moves_from_csv(\"moves_tic_tac_toe.csv\")\n",
    "moves #(tablero,best_next_move(idx))"
   ]
  },
  {
   "cell_type": "code",
   "execution_count": 92,
   "metadata": {
    "collapsed": true
   },
   "outputs": [],
   "source": [
    "def get_random_move(moves, rand_transforms = 2): #rand_transforms=cuantas veces se va a girar el tablero\n",
    "    (board, idx) = random.choice(moves)\n",
    "    possible_transforms = ['rotate90', 'rotate180', 'rotate270', 'flip_v', 'flip_h']\n",
    "    for i in range(rand_transforms):\n",
    "        random_transform = random.choice(possible_transforms)\n",
    "        (board, idx) = get_symmetry(board, idx, random_transform)\n",
    "    return board, idx"
   ]
  },
  {
   "cell_type": "code",
   "execution_count": 93,
   "metadata": {
    "collapsed": false
   },
   "outputs": [
    {
     "data": {
      "text/plain": [
       "([1, -1, 0, -1, 0, 1, 0, 0, -1], 7)"
      ]
     },
     "execution_count": 93,
     "metadata": {},
     "output_type": "execute_result"
    }
   ],
   "source": [
    "get_random_move(moves, 2)"
   ]
  },
  {
   "cell_type": "markdown",
   "metadata": {},
   "source": [
    "### Enseñar a jugar al tres en raya a TensorFlow"
   ]
  },
  {
   "cell_type": "code",
   "execution_count": 94,
   "metadata": {
    "collapsed": true
   },
   "outputs": [],
   "source": [
    "session = tf.Session()"
   ]
  },
  {
   "cell_type": "code",
   "execution_count": 95,
   "metadata": {
    "collapsed": false
   },
   "outputs": [],
   "source": [
    "train_length = 500\n",
    "train_set = []\n",
    "for t in range(train_length):\n",
    "    train_set.append(get_random_move(moves))"
   ]
  },
  {
   "cell_type": "code",
   "execution_count": 96,
   "metadata": {
    "collapsed": false
   },
   "outputs": [
    {
     "data": {
      "text/plain": [
       "([1, -1, 0, -1, -1, 0, 0, 1, 0], 5)"
      ]
     },
     "execution_count": 96,
     "metadata": {},
     "output_type": "execute_result"
    }
   ],
   "source": [
    "train_set[0] #(tablero,best_next_move)"
   ]
  },
  {
   "cell_type": "code",
   "execution_count": 97,
   "metadata": {
    "collapsed": false
   },
   "outputs": [
    {
     "name": "stdout",
     "output_type": "stream",
     "text": [
      "O| | \n",
      "_____\n",
      "X|O|O\n",
      "_____\n",
      " | |X\n"
     ]
    }
   ],
   "source": [
    "test_board = [-1,0,0,1,-1,-1,0,0,1] \n",
    "\n",
    "print_board(test_board)"
   ]
  },
  {
   "cell_type": "code",
   "execution_count": 98,
   "metadata": {
    "collapsed": true
   },
   "outputs": [],
   "source": [
    "train_set = [x for x in train_set if x[0]!=test_board] #eliminamos el test_board del conjunto de datos"
   ]
  },
  {
   "cell_type": "code",
   "execution_count": 99,
   "metadata": {
    "collapsed": true
   },
   "outputs": [],
   "source": [
    "def init_weights(shape):\n",
    "    return tf.Variable(tf.random_normal(shape))"
   ]
  },
  {
   "cell_type": "code",
   "execution_count": 100,
   "metadata": {
    "collapsed": true
   },
   "outputs": [],
   "source": [
    "#Funcion que devuelve un valor numerico para cada posicion del tablero\n",
    "def model(X, A1, A2, b1, b2):\n",
    "    layer1 = tf.nn.sigmoid(tf.add(tf.matmul(X,A1),b1))\n",
    "    layer2 = tf.add(tf.matmul(layer1, A2),b2)\n",
    "    return layer2"
   ]
  },
  {
   "cell_type": "code",
   "execution_count": 101,
   "metadata": {
    "collapsed": true
   },
   "outputs": [],
   "source": [
    "X = tf.placeholder(dtype=tf.float32, shape=[None,9])\n",
    "Y = tf.placeholder(dtype=tf.int32, shape=[None])\n",
    "A1 = init_weights([9, 81])\n",
    "b1 = init_weights([81])\n",
    "A2 = init_weights([81,9])\n",
    "b2 = init_weights([9])\n",
    "model_output = model(X, A1, A2, b1, b2)"
   ]
  },
  {
   "cell_type": "code",
   "execution_count": 102,
   "metadata": {
    "collapsed": true
   },
   "outputs": [],
   "source": [
    "loss = tf.reduce_mean(tf.nn.sparse_softmax_cross_entropy_with_logits(logits=model_output, labels = Y))\n",
    "train_step = tf.train.GradientDescentOptimizer(0.025).minimize(loss)\n",
    "prediction = tf.argmax(model_output,1) #obtiene el  idx del max valor en el axis=1 (horizontalmente)"
   ]
  },
  {
   "cell_type": "code",
   "execution_count": 103,
   "metadata": {
    "collapsed": true
   },
   "outputs": [],
   "source": [
    "init = tf.initialize_all_variables()\n",
    "session.run(init)"
   ]
  },
  {
   "cell_type": "code",
   "execution_count": 104,
   "metadata": {
    "collapsed": false
   },
   "outputs": [
    {
     "name": "stdout",
     "output_type": "stream",
     "text": [
      "Step #500, Loss: 1.75134\n",
      "Step #1000, Loss: 1.4468\n",
      "Step #1500, Loss: 1.15457\n",
      "Step #2000, Loss: 1.06928\n",
      "Step #2500, Loss: 1.13993\n",
      "Step #3000, Loss: 1.30824\n",
      "Step #3500, Loss: 1.16208\n",
      "Step #4000, Loss: 0.876568\n",
      "Step #4500, Loss: 1.03518\n",
      "Step #5000, Loss: 0.858613\n",
      "Step #5500, Loss: 0.872887\n",
      "Step #6000, Loss: 0.966571\n",
      "Step #6500, Loss: 0.907136\n",
      "Step #7000, Loss: 0.889482\n",
      "Step #7500, Loss: 0.757252\n",
      "Step #8000, Loss: 0.988562\n",
      "Step #8500, Loss: 0.753756\n",
      "Step #9000, Loss: 0.616949\n",
      "Step #9500, Loss: 0.688645\n",
      "Step #10000, Loss: 0.617486\n"
     ]
    }
   ],
   "source": [
    "loss_vect = []\n",
    "for i in range(10000):\n",
    "    rand_idx = np.random.choice(range(len(train_set)), batch_size, replace=False)\n",
    "    batch_data = [train_set[i] for i in rand_idx]\n",
    "    \n",
    "    x_input = [x[0] for x in batch_data]\n",
    "    y_target = np.array([y[1] for y in batch_data])\n",
    "    \n",
    "    session.run(train_step, feed_dict={X:x_input, Y:y_target})\n",
    "    \n",
    "    temp_loss = session.run(loss, feed_dict={X:x_input, Y:y_target})\n",
    "    \n",
    "    loss_vect.append(temp_loss)\n",
    "    \n",
    "    if(i+1)%500==0:\n",
    "        print(\"Step #\"+str(i+1)+\", Loss: \"+str(temp_loss))"
   ]
  },
  {
   "cell_type": "code",
   "execution_count": 105,
   "metadata": {
    "collapsed": false
   },
   "outputs": [
    {
     "data": {
      "image/png": "[encoded data removed]",
      "text/plain": [
       "<matplotlib.figure.Figure at 0x7f9ad7c26cf8>"
      ]
     },
     "metadata": {},
     "output_type": "display_data"
    }
   ],
   "source": [
    "plt.plot(loss_vect, 'k-', label = \"Función de pérdidas\")\n",
    "plt.title(\"MSE por iteración\")\n",
    "plt.show()"
   ]
  },
  {
   "cell_type": "markdown",
   "metadata": {},
   "source": [
    "## Comprobando el modelo entrenado"
   ]
  },
  {
   "cell_type": "code",
   "execution_count": 106,
   "metadata": {
    "collapsed": false
   },
   "outputs": [
    {
     "name": "stdout",
     "output_type": "stream",
     "text": [
      "O| | \n",
      "_____\n",
      "X|O|O\n",
      "_____\n",
      " | |X\n"
     ]
    }
   ],
   "source": [
    "test_board = [-1,0,0,1,-1,-1,0,0,1] \n",
    "\n",
    "print_board(test_board)"
   ]
  },
  {
   "cell_type": "code",
   "execution_count": 107,
   "metadata": {
    "collapsed": true
   },
   "outputs": [],
   "source": [
    "test_boards = [test_board]\n",
    "feed_dict = {X:test_boards}\n",
    "logits = session.run(model_output, feed_dict=feed_dict)\n",
    "predictions = session.run(prediction, feed_dict=feed_dict)"
   ]
  },
  {
   "cell_type": "code",
   "execution_count": 131,
   "metadata": {
    "collapsed": false
   },
   "outputs": [
    {
     "name": "stdout",
     "output_type": "stream",
     "text": [
      "(1, 9)\n"
     ]
    },
    {
     "data": {
      "text/plain": [
       "[array([[ 3.96149015,  4.12973833,  2.31308699,  6.18216133,  4.39329195,\n",
       "          0.51937139,  7.38896036,  3.3936882 ,  4.18525839]], dtype=float32)]"
      ]
     },
     "execution_count": 131,
     "metadata": {},
     "output_type": "execute_result"
    }
   ],
   "source": [
    "print(logits.shape)\n",
    "[logits]"
   ]
  },
  {
   "cell_type": "code",
   "execution_count": 130,
   "metadata": {
    "collapsed": false
   },
   "outputs": [
    {
     "data": {
      "text/plain": [
       "array([6])"
      ]
     },
     "execution_count": 130,
     "metadata": {},
     "output_type": "execute_result"
    }
   ],
   "source": [
    "np.argmax(logits,1) # es lo mismo que \"predictions\""
   ]
  },
  {
   "cell_type": "code",
   "execution_count": 109,
   "metadata": {
    "collapsed": false
   },
   "outputs": [
    {
     "name": "stdout",
     "output_type": "stream",
     "text": [
      "[6]\n"
     ]
    }
   ],
   "source": [
    "print(predictions)"
   ]
  },
  {
   "cell_type": "code",
   "execution_count": 58,
   "metadata": {
    "collapsed": true
   },
   "outputs": [],
   "source": [
    "#devuelve 1 si alguien ganó\n",
    "def check(board):\n",
    "    wins = [[0,1,2], [3,4,5], [6,7,8], [0,3,6], [1,4,7], [2,5,8], [0,4,8], [2,4,6]] #lineas que se forman cuando ganas\n",
    "    for i in range(len(wins)):\n",
    "        if board[wins[i][0]]==board[wins[i][1]]==board[wins[i][2]]==1.0:\n",
    "            return 1\n",
    "        elif board[wins[i][0]]==board[wins[i][1]]==board[wins[i][2]]==-1.0:\n",
    "            return 1\n",
    "    return 0"
   ]
  },
  {
   "cell_type": "code",
   "execution_count": 62,
   "metadata": {
    "collapsed": false
   },
   "outputs": [
    {
     "name": "stdout",
     "output_type": "stream",
     "text": [
      "Introduce tu posición de juego (0-8): 4\n",
      "El modelo ha movido:\n",
      " | | \n",
      "_____\n",
      " |X| \n",
      "_____\n",
      " | |O\n",
      "Introduce tu posición de juego (0-8): 0\n",
      "El modelo ha movido:\n",
      "X| | \n",
      "_____\n",
      " |X| \n",
      "_____\n",
      "O| |O\n",
      "Introduce tu posición de juego (0-8): 3\n",
      "El modelo ha movido:\n",
      "X| |O\n",
      "_____\n",
      "X|X| \n",
      "_____\n",
      "O| |O\n",
      "Introduce tu posición de juego (0-8): 1\n",
      "El modelo ha movido:\n",
      "X|X|O\n",
      "_____\n",
      "X|X| \n",
      "_____\n",
      "O|O|O\n",
      "Game Over\n"
     ]
    }
   ],
   "source": [
    "game_tracker = [0,0,0,0,0,0,0,0,0]\n",
    "win_logical = False\n",
    "num_moves = 0\n",
    "while not win_logical:\n",
    "    player_idx = input('Introduce tu posición de juego (0-8): ')\n",
    "    num_moves +=1\n",
    "    game_tracker[int(player_idx)] = 1.0 #guarda posicion de usuario, 1-->usuario | -1 -->maquina\n",
    "    \n",
    "    [potential_moves] = session.run(model_output, feed_dict={X:[game_tracker]})\n",
    "    allowed_moves = [ix for ix, x in enumerate(game_tracker) if x==0] #obtiene los lugares vacios\n",
    "    '''model_move:\n",
    "        si  el ix(index) esta en un espacio vacio agregalo, si el ix no esta en espacio vacio agrega -9999\n",
    "        para que al final, de ese array tome el idx del valor maximo\n",
    "    '''\n",
    "    model_move = np.argmax([x if ix in allowed_moves else -9999 for ix, x in enumerate(potential_moves)])\n",
    "    game_tracker[int(model_move)] = -1.0\n",
    "    \n",
    "    print(\"El modelo ha movido:\")\n",
    "    print_board(game_tracker)\n",
    "    if check(game_tracker)==1 or num_moves>=5:\n",
    "        print(\"Game Over\")\n",
    "        win_logical = True"
   ]
  }
 ],
 "metadata": {
  "kernelspec": {
   "display_name": "Python 3",
   "language": "python",
   "name": "python3"
  },
  "language_info": {
   "codemirror_mode": {
    "name": "ipython",
    "version": 3
   },
   "file_extension": ".py",
   "mimetype": "text/x-python",
   "name": "python",
   "nbconvert_exporter": "python",
   "pygments_lexer": "ipython3",
   "version": "3.4.5"
  }
 },
 "nbformat": 4,
 "nbformat_minor": 2
}
